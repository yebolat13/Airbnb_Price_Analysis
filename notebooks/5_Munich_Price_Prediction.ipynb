{
 "cells": [
  {
   "cell_type": "code",
   "execution_count": 1,
   "id": "40fa5cbf-019c-4556-aa3b-47df9fc1cda1",
   "metadata": {},
   "outputs": [],
   "source": [
    "# Import necessary libraries\n",
    "import pandas as pd\n",
    "import os\n",
    "import sys\n",
    "import numpy as np\n",
    "\n",
    "from sklearn.model_selection import train_test_split\n",
    "from sklearn.linear_model import LinearRegression\n",
    "from sklearn.metrics import mean_squared_error, r2_score\n",
    "from sklearn.impute import SimpleImputer \n",
    "\n",
    "# Add the parent directory (utils folder) to the system path to import our custom modules\n",
    "sys.path.append(os.path.join(os.getcwd(), '..'))\n",
    "\n",
    "# Import our custom data loading and model utility functions\n",
    "from utils.data_loader import load_and_clean_data\n",
    "from utils.model_utils import prepare_features, evaluate_model"
   ]
  },
  {
   "cell_type": "code",
   "execution_count": 2,
   "id": "ffba7aa2-1dc9-4ac9-a9b1-f55de11528e7",
   "metadata": {},
   "outputs": [
    {
     "name": "stdout",
     "output_type": "stream",
     "text": [
      "Loading cleaned data for Munich from processed directory...\n",
      "\n",
      "Munich dataset loaded and ready for modeling.\n",
      "Categorical features have been one-hot encoded.\n",
      "Shape of features (X) after encoding: (4687, 4871)\n"
     ]
    }
   ],
   "source": [
    "# Load the cleaned Munich dataset\n",
    "df_munich = load_and_clean_data('munich')\n",
    "print(\"\\nMunich dataset loaded and ready for modeling.\")\n",
    "\n",
    "# Drop columns that are not suitable for our baseline model\n",
    "df_munich.drop(columns=['host_since', 'calendar_last_scraped', 'first_review', 'last_review'], errors='ignore', inplace=True)\n",
    "\n",
    "# Prepare features (X) and target (y)\n",
    "X, y = prepare_features(df_munich, target_column='price')"
   ]
  },
  {
   "cell_type": "code",
   "execution_count": 3,
   "id": "9673caf8-82d7-4f08-b4da-dbeb5e701c14",
   "metadata": {},
   "outputs": [
    {
     "name": "stdout",
     "output_type": "stream",
     "text": [
      "\n",
      "Checking for missing values in features (X)...\n",
      "host_listings_count            185\n",
      "host_total_listings_count      185\n",
      "bathrooms                        3\n",
      "bedrooms                         5\n",
      "beds                             2\n",
      "minimum_minimum_nights           2\n",
      "maximum_minimum_nights           2\n",
      "minimum_maximum_nights           2\n",
      "maximum_maximum_nights           2\n",
      "review_scores_rating           835\n",
      "review_scores_accuracy         835\n",
      "review_scores_cleanliness      835\n",
      "review_scores_checkin          835\n",
      "review_scores_communication    835\n",
      "review_scores_location         835\n",
      "review_scores_value            835\n",
      "reviews_per_month              835\n",
      "dtype: int64\n",
      "\n",
      "Missing values in features (X) have been filled with the mean.\n"
     ]
    }
   ],
   "source": [
    "# Handle missing values (NaNs) before training the model.\n",
    "print(\"\\nChecking for missing values in features (X)...\")\n",
    "print(X.isnull().sum()[X.isnull().sum() > 0])\n",
    "\n",
    "imputer = SimpleImputer(strategy='mean')\n",
    "X = pd.DataFrame(imputer.fit_transform(X), columns=X.columns)\n",
    "\n",
    "print(\"\\nMissing values in features (X) have been filled with the mean.\")"
   ]
  },
  {
   "cell_type": "code",
   "execution_count": 4,
   "id": "271ef4c0-a7a7-40ca-be07-53cc7a97426a",
   "metadata": {},
   "outputs": [
    {
     "name": "stdout",
     "output_type": "stream",
     "text": [
      "\n",
      "Data has been split into training and testing sets.\n",
      "Training set shape: (3749, 4871)\n",
      "Testing set shape: (938, 4871)\n"
     ]
    }
   ],
   "source": [
    "# Split the data into 80% training and 20% testing sets\n",
    "X_train, X_test, y_train, y_test = train_test_split(X, y, test_size=0.2, random_state=42)\n",
    "\n",
    "print(\"\\nData has been split into training and testing sets.\")\n",
    "print(f\"Training set shape: {X_train.shape}\")\n",
    "print(f\"Testing set shape: {X_test.shape}\")"
   ]
  },
  {
   "cell_type": "code",
   "execution_count": 5,
   "id": "123db34d-00c2-4664-a7ab-9be0cec3440a",
   "metadata": {},
   "outputs": [
    {
     "name": "stdout",
     "output_type": "stream",
     "text": [
      "\n",
      "Linear Regression model training complete.\n"
     ]
    }
   ],
   "source": [
    "# Initialize and train a Linear Regression model\n",
    "linear_model = LinearRegression()\n",
    "linear_model.fit(X_train, y_train)\n",
    "\n",
    "print(\"\\nLinear Regression model training complete.\")\n",
    "\n",
    "# Make predictions on the test set\n",
    "y_pred_linear = linear_model.predict(X_test)"
   ]
  },
  {
   "cell_type": "code",
   "execution_count": 6,
   "id": "133ab243-8e3a-409e-91b6-8afd36220952",
   "metadata": {},
   "outputs": [
    {
     "name": "stdout",
     "output_type": "stream",
     "text": [
      "\n",
      "--- Model Evaluation ---\n",
      "Root Mean Squared Error (RMSE): 142.19\n",
      "R-squared (R²): -0.00\n"
     ]
    }
   ],
   "source": [
    "# Evaluate the model\n",
    "evaluate_model(y_test, y_pred_linear)"
   ]
  },
  {
   "cell_type": "code",
   "execution_count": null,
   "id": "3d379363-6b28-44dd-83be-14cf5551ef92",
   "metadata": {},
   "outputs": [],
   "source": []
  }
 ],
 "metadata": {
  "kernelspec": {
   "display_name": "Python 3 (ipykernel)",
   "language": "python",
   "name": "python3"
  },
  "language_info": {
   "codemirror_mode": {
    "name": "ipython",
    "version": 3
   },
   "file_extension": ".py",
   "mimetype": "text/x-python",
   "name": "python",
   "nbconvert_exporter": "python",
   "pygments_lexer": "ipython3",
   "version": "3.13.5"
  }
 },
 "nbformat": 4,
 "nbformat_minor": 5
}
