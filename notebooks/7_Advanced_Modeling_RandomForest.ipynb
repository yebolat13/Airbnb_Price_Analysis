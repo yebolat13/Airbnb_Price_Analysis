{
 "cells": [
  {
   "cell_type": "code",
   "execution_count": 1,
   "id": "50df1a29-da85-4391-a6ac-d5c3ba604910",
   "metadata": {},
   "outputs": [],
   "source": [
    "# Import necessary libraries\n",
    "import pandas as pd\n",
    "import os\n",
    "import sys\n",
    "import numpy as np\n",
    "\n",
    "from sklearn.model_selection import train_test_split\n",
    "from sklearn.linear_model import LinearRegression\n",
    "from sklearn.ensemble import RandomForestRegressor # Yeni eklenen model\n",
    "from sklearn.metrics import mean_squared_error, r2_score\n",
    "from sklearn.impute import SimpleImputer \n",
    "\n",
    "# Add the parent directory (utils folder) to the system path to import our custom modules\n",
    "sys.path.append(os.path.join(os.getcwd(), '..'))\n",
    "\n",
    "# Import our custom data loading and model utility functions\n",
    "from utils.data_loader import load_and_clean_data\n",
    "from utils.model_utils import prepare_features, evaluate_model"
   ]
  },
  {
   "cell_type": "code",
   "execution_count": 2,
   "id": "8be49703-f734-407d-bf25-4cdb7cca6725",
   "metadata": {},
   "outputs": [
    {
     "name": "stdout",
     "output_type": "stream",
     "text": [
      "Loading cleaned data for Berlin from processed directory...\n",
      "\n",
      "Berlin dataset loaded and ready for modeling.\n",
      "Categorical features have been one-hot encoded.\n",
      "Shape of features (X) after encoding: (9135, 8936)\n",
      "\n",
      "Missing values in features (X) have been filled with the mean.\n",
      "\n",
      "Data has been split into training and testing sets.\n",
      "Training set shape: (7308, 8936)\n",
      "Testing set shape: (1827, 8936)\n"
     ]
    }
   ],
   "source": [
    "# Load the cleaned Berlin dataset\n",
    "df_berlin = load_and_clean_data('berlin')\n",
    "print(\"\\nBerlin dataset loaded and ready for modeling.\")\n",
    "\n",
    "# Drop columns that are not suitable for our baseline model\n",
    "df_berlin.drop(columns=['host_since', 'calendar_last_scraped', 'first_review', 'last_review'], errors='ignore', inplace=True)\n",
    "\n",
    "# Prepare features (X) and target (y)\n",
    "X, y = prepare_features(df_berlin, target_column='price')\n",
    "\n",
    "# Handle missing values (NaNs)\n",
    "imputer = SimpleImputer(strategy='mean')\n",
    "X = pd.DataFrame(imputer.fit_transform(X), columns=X.columns)\n",
    "\n",
    "print(\"\\nMissing values in features (X) have been filled with the mean.\")\n",
    "\n",
    "# Split the data into 80% training and 20% testing sets\n",
    "X_train, X_test, y_train, y_test = train_test_split(X, y, test_size=0.2, random_state=42)\n",
    "\n",
    "print(\"\\nData has been split into training and testing sets.\")\n",
    "print(f\"Training set shape: {X_train.shape}\")\n",
    "print(f\"Testing set shape: {X_test.shape}\")"
   ]
  },
  {
   "cell_type": "code",
   "execution_count": 3,
   "id": "8ebf18c2-7eaf-418f-8a34-536d82dd1794",
   "metadata": {},
   "outputs": [
    {
     "name": "stdout",
     "output_type": "stream",
     "text": [
      "\n",
      "Random Forest model training complete.\n",
      "\n",
      "--- Model Evaluation ---\n",
      "Root Mean Squared Error (RMSE): 48.90\n",
      "R-squared (R²): 0.73\n"
     ]
    }
   ],
   "source": [
    "# Initialize and train a Random Forest Regressor model\n",
    "# n_estimators: The number of trees in the forest.\n",
    "# random_state: For reproducibility.\n",
    "random_forest_model = RandomForestRegressor(n_estimators=100, random_state=42, n_jobs=-1)\n",
    "random_forest_model.fit(X_train, y_train)\n",
    "\n",
    "print(\"\\nRandom Forest model training complete.\")\n",
    "\n",
    "# Make predictions on the test set\n",
    "y_pred_rf = random_forest_model.predict(X_test)\n",
    "\n",
    "# Evaluate the model\n",
    "evaluate_model(y_test, y_pred_rf)"
   ]
  },
  {
   "cell_type": "code",
   "execution_count": null,
   "id": "5f2acbbd-c232-46ad-ab8d-900f647c6ff1",
   "metadata": {},
   "outputs": [],
   "source": []
  }
 ],
 "metadata": {
  "kernelspec": {
   "display_name": "Python 3 (ipykernel)",
   "language": "python",
   "name": "python3"
  },
  "language_info": {
   "codemirror_mode": {
    "name": "ipython",
    "version": 3
   },
   "file_extension": ".py",
   "mimetype": "text/x-python",
   "name": "python",
   "nbconvert_exporter": "python",
   "pygments_lexer": "ipython3",
   "version": "3.13.5"
  }
 },
 "nbformat": 4,
 "nbformat_minor": 5
}
