{
 "cells": [
  {
   "cell_type": "code",
   "execution_count": 1,
   "id": "24c36f6c-2d65-419c-9ba7-a34115248752",
   "metadata": {},
   "outputs": [],
   "source": [
    "# Import necessary libraries\n",
    "import pandas as pd\n",
    "import os\n",
    "import sys\n",
    "import numpy as np\n",
    "\n",
    "from sklearn.model_selection import train_test_split\n",
    "from sklearn.linear_model import LinearRegression\n",
    "from sklearn.ensemble import RandomForestRegressor\n",
    "from sklearn.metrics import mean_squared_error, r2_score\n",
    "from sklearn.impute import SimpleImputer \n",
    "\n",
    "# Add the parent directory (utils folder) to the system path to import our custom modules\n",
    "sys.path.append(os.path.join(os.getcwd(), '..'))\n",
    "\n",
    "# Import our custom data loading and model utility functions\n",
    "from utils.data_loader import load_and_clean_data\n",
    "from utils.model_utils import prepare_features, evaluate_model, train_and_evaluate_model"
   ]
  },
  {
   "cell_type": "code",
   "execution_count": 2,
   "id": "9e5e855a-53a6-47e8-ae8f-081743e68c54",
   "metadata": {},
   "outputs": [
    {
     "name": "stdout",
     "output_type": "stream",
     "text": [
      "Loading cleaned data for Istanbul from processed directory...\n",
      "\n",
      "Istanbul dataset loaded and ready for modeling.\n",
      "Categorical features have been one-hot encoded.\n",
      "Shape of features (X) after encoding: (3340, 3524)\n",
      "\n",
      "Missing values in features (X) have been filled with the mean.\n",
      "\n",
      "Data has been split into training and testing sets.\n",
      "Training set shape: (2672, 3524)\n",
      "Testing set shape: (668, 3524)\n"
     ]
    }
   ],
   "source": [
    "# Load the cleaned Istanbul dataset\n",
    "df_istanbul = load_and_clean_data('istanbul')\n",
    "print(\"\\nIstanbul dataset loaded and ready for modeling.\")\n",
    "\n",
    "# Drop columns that are not suitable for our model\n",
    "df_istanbul.drop(columns=['host_since', 'calendar_last_scraped', 'first_review', 'last_review'], errors='ignore', inplace=True)\n",
    "\n",
    "# Prepare features (X) and target (y)\n",
    "X, y = prepare_features(df_istanbul, target_column='price')\n",
    "\n",
    "# Handle missing values (NaNs)\n",
    "imputer = SimpleImputer(strategy='mean')\n",
    "X = pd.DataFrame(imputer.fit_transform(X), columns=X.columns)\n",
    "\n",
    "print(\"\\nMissing values in features (X) have been filled with the mean.\")\n",
    "\n",
    "# Split the data into 80% training and 20% testing sets\n",
    "X_train, X_test, y_train, y_test = train_test_split(X, y, test_size=0.2, random_state=42)\n",
    "\n",
    "print(\"\\nData has been split into training and testing sets.\")\n",
    "print(f\"Training set shape: {X_train.shape}\")\n",
    "print(f\"Testing set shape: {X_test.shape}\")"
   ]
  },
  {
   "cell_type": "code",
   "execution_count": 3,
   "id": "17659e8d-1e1b-4705-b076-36b754d12168",
   "metadata": {},
   "outputs": [
    {
     "name": "stdout",
     "output_type": "stream",
     "text": [
      "\n",
      "Training RandomForestRegressor model...\n",
      "Training complete.\n",
      "\n",
      "--- Model Evaluation ---\n",
      "Root Mean Squared Error (RMSE): 177.69\n",
      "R-squared (R²): 0.31\n"
     ]
    }
   ],
   "source": [
    "# Initialize a Random Forest Regressor model\n",
    "random_forest_model = RandomForestRegressor(n_estimators=100, random_state=42, n_jobs=-1)\n",
    "\n",
    "# Train and evaluate the model using our new function\n",
    "y_pred_rf_istanbul, rmse_istanbul, r2_istanbul = train_and_evaluate_model(random_forest_model, X_train, X_test, y_train, y_test)"
   ]
  },
  {
   "cell_type": "code",
   "execution_count": null,
   "id": "6d5d52bc-b28d-4dd5-87bf-72a43efb17f9",
   "metadata": {},
   "outputs": [],
   "source": []
  }
 ],
 "metadata": {
  "kernelspec": {
   "display_name": "Python 3 (ipykernel)",
   "language": "python",
   "name": "python3"
  },
  "language_info": {
   "codemirror_mode": {
    "name": "ipython",
    "version": 3
   },
   "file_extension": ".py",
   "mimetype": "text/x-python",
   "name": "python",
   "nbconvert_exporter": "python",
   "pygments_lexer": "ipython3",
   "version": "3.13.5"
  }
 },
 "nbformat": 4,
 "nbformat_minor": 5
}
