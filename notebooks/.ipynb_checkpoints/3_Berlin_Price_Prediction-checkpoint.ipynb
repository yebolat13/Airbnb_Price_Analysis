{
 "cells": [
  {
   "cell_type": "code",
   "execution_count": 1,
   "id": "2fd3b1c0-95fd-45f8-93b6-091dd6a81130",
   "metadata": {},
   "outputs": [],
   "source": [
    "# Import necessary libraries\n",
    "import pandas as pd\n",
    "import os\n",
    "import sys\n",
    "import numpy as np\n",
    "\n",
    "from sklearn.model_selection import train_test_split\n",
    "from sklearn.linear_model import LinearRegression\n",
    "from sklearn.metrics import mean_squared_error, r2_score\n",
    "from sklearn.impute import SimpleImputer \n",
    "\n",
    "# Add the parent directory (utils folder) to the system path to import our custom modules\n",
    "sys.path.append(os.path.join(os.getcwd(), '..'))\n",
    "\n",
    "# Import our custom data loading and model utility functions\n",
    "from utils.data_loader import load_and_clean_data\n",
    "from utils.model_utils import prepare_features, evaluate_model"
   ]
  },
  {
   "cell_type": "code",
   "execution_count": 2,
   "id": "932c28a6-343e-454f-a890-d034ba1b2335",
   "metadata": {},
   "outputs": [
    {
     "name": "stdout",
     "output_type": "stream",
     "text": [
      "Loading cleaned data for Berlin from processed directory...\n",
      "\n",
      "Berlin dataset loaded and ready for modeling.\n",
      "Categorical features have been one-hot encoded.\n",
      "Shape of features (X) after encoding: (9135, 8936)\n"
     ]
    }
   ],
   "source": [
    "# Load the cleaned Berlin dataset\n",
    "df_berlin = load_and_clean_data('berlin')\n",
    "print(\"\\nBerlin dataset loaded and ready for modeling.\")\n",
    "\n",
    "# Drop columns that are not suitable for our baseline model (e.g., text, dates with too many unique values)\n",
    "# The 'errors' parameter prevents an error if the column doesn't exist in the cleaned data.\n",
    "df_berlin.drop(columns=['host_since', 'calendar_last_scraped', 'first_review', 'last_review'], errors='ignore', inplace=True)\n",
    "\n",
    "# Prepare features (X) and target (y)\n",
    "X, y = prepare_features(df_berlin, target_column='price')"
   ]
  },
  {
   "cell_type": "code",
   "execution_count": 3,
   "id": "98c4a567-79e7-4735-a1a1-da97b745d0c8",
   "metadata": {},
   "outputs": [
    {
     "name": "stdout",
     "output_type": "stream",
     "text": [
      "\n",
      "Checking for missing values in features (X)...\n",
      "host_listings_count               1\n",
      "host_total_listings_count         1\n",
      "bathrooms                         4\n",
      "bedrooms                         31\n",
      "beds                             16\n",
      "review_scores_rating           2045\n",
      "review_scores_accuracy         2045\n",
      "review_scores_cleanliness      2045\n",
      "review_scores_checkin          2045\n",
      "review_scores_communication    2045\n",
      "review_scores_location         2045\n",
      "review_scores_value            2045\n",
      "reviews_per_month              2045\n",
      "dtype: int64\n",
      "\n",
      "Missing values in features (X) have been filled with the mean.\n"
     ]
    }
   ],
   "source": [
    "# Handle missing values (NaNs) before training the model.\n",
    "# We'll use SimpleImputer to fill missing numerical values with the mean of the column.\n",
    "print(\"\\nChecking for missing values in features (X)...\")\n",
    "print(X.isnull().sum()[X.isnull().sum() > 0])\n",
    "\n",
    "imputer = SimpleImputer(strategy='mean')\n",
    "X = pd.DataFrame(imputer.fit_transform(X), columns=X.columns)\n",
    "\n",
    "print(\"\\nMissing values in features (X) have been filled with the mean.\")"
   ]
  },
  {
   "cell_type": "code",
   "execution_count": 4,
   "id": "bcbf1252-bfbd-405a-9d05-c358e3b66f5c",
   "metadata": {},
   "outputs": [
    {
     "name": "stdout",
     "output_type": "stream",
     "text": [
      "\n",
      "Data has been split into training and testing sets.\n",
      "Training set shape: (7308, 8936)\n",
      "Testing set shape: (1827, 8936)\n"
     ]
    }
   ],
   "source": [
    "# Split the data into 80% training and 20% testing sets\n",
    "X_train, X_test, y_train, y_test = train_test_split(X, y, test_size=0.2, random_state=42)\n",
    "\n",
    "print(\"\\nData has been split into training and testing sets.\")\n",
    "print(f\"Training set shape: {X_train.shape}\")\n",
    "print(f\"Testing set shape: {X_test.shape}\")"
   ]
  },
  {
   "cell_type": "code",
   "execution_count": 5,
   "id": "9313077e-f513-433a-9fa6-6c7dd86f459b",
   "metadata": {},
   "outputs": [
    {
     "name": "stdout",
     "output_type": "stream",
     "text": [
      "\n",
      "Linear Regression model training complete.\n"
     ]
    }
   ],
   "source": [
    "# Initialize and train a Linear Regression model\n",
    "linear_model = LinearRegression()\n",
    "linear_model.fit(X_train, y_train)\n",
    "\n",
    "print(\"\\nLinear Regression model training complete.\")\n",
    "\n",
    "# Make predictions on the test set\n",
    "y_pred_linear = linear_model.predict(X_test)"
   ]
  },
  {
   "cell_type": "code",
   "execution_count": 6,
   "id": "8b457f44-4cda-4ec2-a46c-667d8936ff22",
   "metadata": {},
   "outputs": [
    {
     "name": "stdout",
     "output_type": "stream",
     "text": [
      "\n",
      "--- Model Evaluation ---\n",
      "Root Mean Squared Error (RMSE): 93.31\n",
      "R-squared (R²): 0.01\n"
     ]
    }
   ],
   "source": [
    "# Evaluate the model\n",
    "evaluate_model(y_test, y_pred_linear)"
   ]
  },
  {
   "cell_type": "code",
   "execution_count": null,
   "id": "095aedf8-ae89-4d4e-a866-bb0fb56a4a40",
   "metadata": {},
   "outputs": [],
   "source": []
  }
 ],
 "metadata": {
  "kernelspec": {
   "display_name": "Python 3 (ipykernel)",
   "language": "python",
   "name": "python3"
  },
  "language_info": {
   "codemirror_mode": {
    "name": "ipython",
    "version": 3
   },
   "file_extension": ".py",
   "mimetype": "text/x-python",
   "name": "python",
   "nbconvert_exporter": "python",
   "pygments_lexer": "ipython3",
   "version": "3.13.5"
  }
 },
 "nbformat": 4,
 "nbformat_minor": 5
}
