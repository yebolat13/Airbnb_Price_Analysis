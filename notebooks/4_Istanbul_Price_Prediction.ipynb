{
 "cells": [
  {
   "cell_type": "code",
   "execution_count": 1,
   "id": "94ef056a-00fa-434f-86b0-209fb24d9fea",
   "metadata": {},
   "outputs": [],
   "source": [
    "# Import necessary libraries\n",
    "import pandas as pd\n",
    "import os\n",
    "import sys\n",
    "import numpy as np\n",
    "\n",
    "from sklearn.model_selection import train_test_split\n",
    "from sklearn.linear_model import LinearRegression\n",
    "from sklearn.metrics import mean_squared_error, r2_score\n",
    "from sklearn.impute import SimpleImputer \n",
    "\n",
    "# Add the parent directory (utils folder) to the system path to import our custom modules\n",
    "sys.path.append(os.path.join(os.getcwd(), '..'))\n",
    "\n",
    "# Import our custom data loading and model utility functions\n",
    "from utils.data_loader import load_and_clean_data\n",
    "from utils.model_utils import prepare_features, evaluate_model"
   ]
  },
  {
   "cell_type": "code",
   "execution_count": 2,
   "id": "e939c160-511f-4d7b-ace5-1a0da49c919d",
   "metadata": {},
   "outputs": [
    {
     "name": "stdout",
     "output_type": "stream",
     "text": [
      "Loading cleaned data for Istanbul from processed directory...\n",
      "\n",
      "Istanbul dataset loaded and ready for modeling.\n",
      "Categorical features have been one-hot encoded.\n",
      "Shape of features (X) after encoding: (3340, 3524)\n"
     ]
    }
   ],
   "source": [
    "# Load the cleaned Istanbul dataset\n",
    "df_istanbul = load_and_clean_data('istanbul')\n",
    "print(\"\\nIstanbul dataset loaded and ready for modeling.\")\n",
    "\n",
    "# Drop columns that are not suitable for our baseline model (e.g., text, dates with too many unique values)\n",
    "df_istanbul.drop(columns=['host_since', 'calendar_last_scraped', 'first_review', 'last_review'], errors='ignore', inplace=True)\n",
    "\n",
    "# Prepare features (X) and target (y)\n",
    "X, y = prepare_features(df_istanbul, target_column='price')"
   ]
  },
  {
   "cell_type": "code",
   "execution_count": 3,
   "id": "64be6fd9-8ca0-4278-9f87-67e2c6d57359",
   "metadata": {},
   "outputs": [
    {
     "name": "stdout",
     "output_type": "stream",
     "text": [
      "\n",
      "Checking for missing values in features (X)...\n",
      "bathrooms                        28\n",
      "bedrooms                         33\n",
      "beds                              5\n",
      "review_scores_rating           1780\n",
      "review_scores_accuracy         1780\n",
      "review_scores_cleanliness      1780\n",
      "review_scores_checkin          1780\n",
      "review_scores_communication    1780\n",
      "review_scores_location         1780\n",
      "review_scores_value            1781\n",
      "reviews_per_month              1780\n",
      "dtype: int64\n",
      "\n",
      "Missing values in features (X) have been filled with the mean.\n"
     ]
    }
   ],
   "source": [
    "# Handle missing values (NaNs) before training the model.\n",
    "print(\"\\nChecking for missing values in features (X)...\")\n",
    "print(X.isnull().sum()[X.isnull().sum() > 0])\n",
    "\n",
    "imputer = SimpleImputer(strategy='mean')\n",
    "X = pd.DataFrame(imputer.fit_transform(X), columns=X.columns)\n",
    "\n",
    "print(\"\\nMissing values in features (X) have been filled with the mean.\")"
   ]
  },
  {
   "cell_type": "code",
   "execution_count": 4,
   "id": "e844be20-3c43-4f7b-ac58-48bd4729c8a0",
   "metadata": {},
   "outputs": [
    {
     "name": "stdout",
     "output_type": "stream",
     "text": [
      "\n",
      "Data has been split into training and testing sets.\n",
      "Training set shape: (2672, 3524)\n",
      "Testing set shape: (668, 3524)\n"
     ]
    }
   ],
   "source": [
    "# Split the data into 80% training and 20% testing sets\n",
    "X_train, X_test, y_train, y_test = train_test_split(X, y, test_size=0.2, random_state=42)\n",
    "\n",
    "print(\"\\nData has been split into training and testing sets.\")\n",
    "print(f\"Training set shape: {X_train.shape}\")\n",
    "print(f\"Testing set shape: {X_test.shape}\")"
   ]
  },
  {
   "cell_type": "code",
   "execution_count": 5,
   "id": "66d4e8b4-105c-47b7-9938-389c1d53f14a",
   "metadata": {},
   "outputs": [
    {
     "name": "stdout",
     "output_type": "stream",
     "text": [
      "\n",
      "Linear Regression model training complete.\n"
     ]
    }
   ],
   "source": [
    "# Initialize and train a Linear Regression model\n",
    "linear_model = LinearRegression()\n",
    "linear_model.fit(X_train, y_train)\n",
    "\n",
    "print(\"\\nLinear Regression model training complete.\")\n",
    "\n",
    "# Make predictions on the test set\n",
    "y_pred_linear = linear_model.predict(X_test)"
   ]
  },
  {
   "cell_type": "code",
   "execution_count": 6,
   "id": "94941c54-2bfa-4d4a-9e83-c42f02720117",
   "metadata": {},
   "outputs": [
    {
     "name": "stdout",
     "output_type": "stream",
     "text": [
      "\n",
      "--- Model Evaluation ---\n",
      "Root Mean Squared Error (RMSE): 211.71\n",
      "R-squared (R²): 0.02\n"
     ]
    }
   ],
   "source": [
    "# Evaluate the model\n",
    "evaluate_model(y_test, y_pred_linear)"
   ]
  },
  {
   "cell_type": "code",
   "execution_count": null,
   "id": "8fe0f0c0-6669-426e-87d0-a9c51f84de77",
   "metadata": {},
   "outputs": [],
   "source": []
  }
 ],
 "metadata": {
  "kernelspec": {
   "display_name": "Python 3 (ipykernel)",
   "language": "python",
   "name": "python3"
  },
  "language_info": {
   "codemirror_mode": {
    "name": "ipython",
    "version": 3
   },
   "file_extension": ".py",
   "mimetype": "text/x-python",
   "name": "python",
   "nbconvert_exporter": "python",
   "pygments_lexer": "ipython3",
   "version": "3.13.5"
  }
 },
 "nbformat": 4,
 "nbformat_minor": 5
}
